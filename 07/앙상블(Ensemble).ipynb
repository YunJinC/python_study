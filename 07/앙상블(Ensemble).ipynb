{
 "cells": [
  {
   "attachments": {},
   "cell_type": "markdown",
   "metadata": {},
   "source": [
    "# 앙상블이란 ?\n",
    "- 머신 러닝에서 앙상블은 단어 그대로 여러 단순한 모델을 결합하여 정확한 모델을 만드는 방법\n",
    "\n",
    "## 앙상블 종류\n",
    "- 보팅 : 여러 개의 분류기가 투표를 통해 최종 예측 결과를 결정하는 방식 \n",
    "- 배깅: 일반적인 모델을 만드는데 집중 가중치 부여 X\n",
    "- 부스팅 : 맞추기 어려운 문제를 맞추는데 초점이 되어 있음. 가중치 부여 O\n",
    "- 스태킹 : 서로 다른 모델을 조합해서 최고의 성능을 내는 모델을 생성\n",
    "\n",
    "### 보팅\n",
    "- 하드보팅 : 결과값 중 가장 많이 나온 것을 선정\n",
    "- 소프트보팅 : 모든 분류기가 예측한 레이블 값의 결정 확률 평균을 구한 뒤 가장 확률이 높은 레이블 값을 최종 결과로 선정\n",
    "![앙상블_보팅.png](./image/앙상블_보팅.png)\n",
    "\n",
    "### 배깅\n",
    "- 데이터 샘플링(Bootstrap) 을 통해 모델을 학습시키고 결과를 집계(Aggregating) 하는 방법\n",
    "- 모두 같은 유형의 알고리즘 기반의 분류기를 사용\n",
    "- 데이터 분할 시 중복을 허용\n",
    "- Categorical Data : 다수결 투표 방식으로 결과 집계\n",
    "- Continuous Data : 평균값 집계\n",
    "- 과적합(Overfitting) 방지에 효과적\n",
    "- 대표적인 배깅 방식 : 랜덤 포레스트 알고리즘\n",
    "![앙상블_배깅.png](./image/앙상블_배깅.png)\n",
    "\n",
    "### 부스팅\n",
    "- 여러개의 분류기가 순차적으로 학습을 수행\n",
    "- 이전 분류기가 예측이 틀린 데이터에 대해서 올바르게 예측할 수 있도록 다음 분류기에게 가중치(weight)를 부여하면서 학습과 예측을 진행\n",
    "- 계속하여 분류기에게 가중치를 부스팅하며 학습을 진행하기에 부스팅 방식이라고 불림\n",
    "- 예측 성능이 뛰어나 앙상블 학습을 주도\n",
    "- 대표적인 부스팅 모듈 – XGBoost, LightGBM\n",
    "- 보통 부스팅 방식은 배깅에 비해 성능이 좋지만, 속도가 느리고 과적합이 발생할 가능성이 존재하므로 상황에 따라 적절하게 사용해야 함.\n",
    "![앙상블_부스팅.png](./image/앙상블_부스팅.png)\n",
    "\n",
    "### 스태킹\n",
    "- 개별 모델이 예측한 데이터를 다시 meta data set으로 사용해서 학습한다는 컨셉\n",
    "- 2가지 개념의 모델이 필요 : 개별 모델, 최종 모델\n",
    "![앙상블_스태킹.png](./image/앙상블_스태킹.png)"
   ]
  }
 ],
 "metadata": {
  "kernelspec": {
   "display_name": "Python 3",
   "language": "python",
   "name": "python3"
  },
  "language_info": {
   "codemirror_mode": {
    "name": "ipython",
    "version": 3
   },
   "file_extension": ".py",
   "mimetype": "text/x-python",
   "name": "python",
   "nbconvert_exporter": "python",
   "pygments_lexer": "ipython3",
   "version": "3.7.6"
  }
 },
 "nbformat": 4,
 "nbformat_minor": 4
}
