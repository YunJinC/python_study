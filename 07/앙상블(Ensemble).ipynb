{
 "cells": [
  {
   "cell_type": "markdown",
   "metadata": {},
   "source": [
    "# 앙상블이란 ?\n",
    "- 머신 러닝에서 앙상블은 단어 그대로 여러 단순한 모델을 결합하여 정확한 모델을 만드는 방법\n",
    "\n",
    "## 앙상블 종류\n",
    "- 보팅 : 서로 다른 알고리즘을 \n",
    "- 배깅: 일반적인 모델을 만드는데 집중 가중치 부여 X\n",
    "- 부스팅 : 맞추기 어려운 문제를 맞추는데 초점이 되어 있음. 가중치 부여 O\n",
    "- 스태킹 : 서로 다른 모델을 조합해서 최고의 성능을 내는 모델을 생성"
   ]
  },
  {
   "cell_type": "markdown",
   "metadata": {},
   "source": []
  }
 ],
 "metadata": {
  "kernelspec": {
   "display_name": "Python 3",
   "language": "python",
   "name": "python3"
  },
  "language_info": {
   "codemirror_mode": {
    "name": "ipython",
    "version": 3
   },
   "file_extension": ".py",
   "mimetype": "text/x-python",
   "name": "python",
   "nbconvert_exporter": "python",
   "pygments_lexer": "ipython3",
   "version": "3.7.6"
  }
 },
 "nbformat": 4,
 "nbformat_minor": 4
}
